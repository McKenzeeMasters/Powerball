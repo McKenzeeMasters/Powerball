{
 "cells": [
  {
   "cell_type": "markdown",
   "id": "3a151a83",
   "metadata": {},
   "source": [
    "# Powerball Lottery \n",
    "## By: Jaden Wilkins, McKenzee Masters, Hannah Garrett"
   ]
  },
  {
   "cell_type": "code",
   "execution_count": 1,
   "id": "be09d867",
   "metadata": {},
   "outputs": [
    {
     "name": "stdout",
     "output_type": "stream",
     "text": [
      "Enter a number 1-69: 10\n",
      "Enter a number 1-69: 10\n",
      "Enter a number 1-69: 10\n",
      "Enter a number 1-69: 10\n",
      "Enter a number 1-69: 10\n",
      "Enter a number 1-26: 12\n",
      "You're numbers: [10, 10, 10, 10, 10][12] \n",
      "Powerball Numbers: [34, 29, 39, 69, 19][2] \n",
      "YOU LOST!!!\n",
      "Would you like to play again? (y/n) y\n",
      "Pay 2 Dollars\n",
      "-----------------------------------------------------------------------------------\n",
      "Enter a number 1-69: 12\n",
      "Enter a number 1-69: 12\n",
      "Enter a number 1-69: 12\n",
      "Enter a number 1-69: 12\n",
      "Enter a number 1-69: 12\n",
      "Enter a number 1-26: 11\n",
      "You're numbers: [12, 12, 12, 12, 12][11] \n",
      "Powerball Numbers: [56, 6, 47, 31, 64][23] \n",
      "YOU LOST!!!\n",
      "Would you like to play again? (y/n) n\n"
     ]
    }
   ],
   "source": [
    "import random\n",
    "play_game=None\n",
    "com_choice=[]\n",
    "com_powerball=[]    \n",
    "your_choice=[]\n",
    "your_powerball=[]\n",
    "        \n",
    "powerball=True \n",
    "\n",
    "while powerball: \n",
    "    for com in range(1): \n",
    "        for choice in range(5):\n",
    "            x=random.randrange(1,70) \n",
    "            com_choice.append(x)\n",
    "        y=random.randrange(1,27)\n",
    "    com_powerball.append(y)\n",
    "    for you in range(1):\n",
    "        for choice in range(5):\n",
    "            z=int(input(\"Enter a number 1-69: \"))\n",
    "            your_choice.append(z)\n",
    "        t=int(input(\"Enter a number 1-26: \"))\n",
    "        your_powerball.append(t)\n",
    "    if com_choice==your_choice and com_powerball==your_powerball:\n",
    "        print(f\"You're numbers: {your_choice}{your_powerball} \\nPowerball Numbers: {com_choice}{com_powerball} \\nYOU WON THE POWERBALL LOTTERY!!! \\nYOU'VE WON: 1 Million Dollars!\")\n",
    "    elif com_powerball==your_powerball and com_choice!=your_choice: \n",
    "        print(f\"You're numbers: {your_choice}{your_powerball} \\nPowerball Numbers: {com_choice}{com_powerball} \\nYOU WON THE POWERBALL Number!!! \\nYOU'VE WON: 4 Dollars!\")\n",
    "    elif com_choice==your_choice and com_powerball!=your_powerball:\n",
    "        print(f\"You're numbers: {your_choice}{your_powerball} \\nPowerball Numbers: {com_choice}{com_powerball} \\nYOU WON THE POWERBALL Main Numbers!!! \\nYOU'VE WON: 10 Dollars\")\n",
    "    else:\n",
    "        print(f\"You're numbers: {your_choice}{your_powerball} \\nPowerball Numbers: {com_choice}{com_powerball} \\nYOU LOST!!!\")\n",
    "    repeat= input(\"Would you like to play again? (y/n) \")\n",
    "    if repeat=='n':\n",
    "        powerball=False\n",
    "    else:\n",
    "        for t in range(1): \n",
    "            for l in range(5):\n",
    "                del com_choice[0]\n",
    "            del com_powerball[0]\n",
    "        for k in range(1): \n",
    "            for w in range(5):\n",
    "                del your_choice[0]\n",
    "            del your_powerball[0]\n",
    "    \n",
    "        powerball=True\n",
    "        print(\"Pay 2 Dollars\")\n",
    "        print(\"-----------------------------------------------------------------------------------\")\n"
   ]
  },
  {
   "cell_type": "code",
   "execution_count": null,
   "id": "c1d803c1",
   "metadata": {},
   "outputs": [],
   "source": []
  }
 ],
 "metadata": {
  "kernelspec": {
   "display_name": "Python 3 (ipykernel)",
   "language": "python",
   "name": "python3"
  },
  "language_info": {
   "codemirror_mode": {
    "name": "ipython",
    "version": 3
   },
   "file_extension": ".py",
   "mimetype": "text/x-python",
   "name": "python",
   "nbconvert_exporter": "python",
   "pygments_lexer": "ipython3",
   "version": "3.9.12"
  }
 },
 "nbformat": 4,
 "nbformat_minor": 5
}
